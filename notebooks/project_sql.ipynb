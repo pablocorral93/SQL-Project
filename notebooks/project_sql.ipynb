{
 "cells": [
  {
   "cell_type": "code",
   "execution_count": 2,
   "metadata": {
    "id": "ZfVNvJr3RWm9"
   },
   "outputs": [],
   "source": [
    "schools = {\n",
    "    'ironhack' : 10828,\n",
    "    'app-academy' : 10525,\n",
    "    'springboard' : 11035,\n",
    "    'le-wagon' : 10868,\n",
    "    'general-assembly':10761,\n",
    "    'brainstation': 10571,\n",
    "    'flatiron-school': 10748,\n",
    "    '4geeks-academy': 10492,\n",
    "    'academia-de-codigo':10494,\n",
    "    'wild-code-school':11169,\n",
    "    'edit-disruptive-digital-education':10731,\n",
    "    'nuclio-digital-school':11509,\n",
    "    'neoland':10906,\n",
    "    'la-capsule':10853,\n",
    "    'careerfoundry':10581,\n",
    "    'neue-fische': 11753,\n",
    "}\n",
    "\n",
    "import re\n",
    "import pandas as pd\n",
    "from pandas.io.json import json_normalize\n",
    "import requests"
   ]
  },
  {
   "cell_type": "code",
   "execution_count": 3,
   "metadata": {
    "colab": {
     "base_uri": "https://localhost:8080/"
    },
    "id": "qhgwn3NHRaru",
    "outputId": "b2b4ee14-e96d-4cac-d7ed-6b6a21914077"
   },
   "outputs": [
    {
     "name": "stdout",
     "output_type": "stream",
     "text": [
      "ironhack\n"
     ]
    },
    {
     "name": "stderr",
     "output_type": "stream",
     "text": [
      "C:\\Users\\pablo\\AppData\\Local\\Temp\\ipykernel_19416\\3067541099.py:14: FutureWarning: pandas.io.json.json_normalize is deprecated, use pandas.json_normalize instead.\n",
      "  locations_df = json_normalize(locations)\n"
     ]
    },
    {
     "name": "stdout",
     "output_type": "stream",
     "text": [
      "app-academy\n"
     ]
    },
    {
     "name": "stderr",
     "output_type": "stream",
     "text": [
      "C:\\Users\\pablo\\AppData\\Local\\Temp\\ipykernel_19416\\3067541099.py:14: FutureWarning: pandas.io.json.json_normalize is deprecated, use pandas.json_normalize instead.\n",
      "  locations_df = json_normalize(locations)\n"
     ]
    },
    {
     "name": "stdout",
     "output_type": "stream",
     "text": [
      "springboard\n"
     ]
    },
    {
     "name": "stderr",
     "output_type": "stream",
     "text": [
      "C:\\Users\\pablo\\AppData\\Local\\Temp\\ipykernel_19416\\3067541099.py:14: FutureWarning: pandas.io.json.json_normalize is deprecated, use pandas.json_normalize instead.\n",
      "  locations_df = json_normalize(locations)\n"
     ]
    },
    {
     "name": "stdout",
     "output_type": "stream",
     "text": [
      "le-wagon\n"
     ]
    },
    {
     "name": "stderr",
     "output_type": "stream",
     "text": [
      "C:\\Users\\pablo\\AppData\\Local\\Temp\\ipykernel_19416\\3067541099.py:14: FutureWarning: pandas.io.json.json_normalize is deprecated, use pandas.json_normalize instead.\n",
      "  locations_df = json_normalize(locations)\n"
     ]
    },
    {
     "name": "stdout",
     "output_type": "stream",
     "text": [
      "general-assembly\n"
     ]
    },
    {
     "name": "stderr",
     "output_type": "stream",
     "text": [
      "C:\\Users\\pablo\\AppData\\Local\\Temp\\ipykernel_19416\\3067541099.py:14: FutureWarning: pandas.io.json.json_normalize is deprecated, use pandas.json_normalize instead.\n",
      "  locations_df = json_normalize(locations)\n"
     ]
    },
    {
     "name": "stdout",
     "output_type": "stream",
     "text": [
      "brainstation\n"
     ]
    },
    {
     "name": "stderr",
     "output_type": "stream",
     "text": [
      "C:\\Users\\pablo\\AppData\\Local\\Temp\\ipykernel_19416\\3067541099.py:14: FutureWarning: pandas.io.json.json_normalize is deprecated, use pandas.json_normalize instead.\n",
      "  locations_df = json_normalize(locations)\n"
     ]
    },
    {
     "name": "stdout",
     "output_type": "stream",
     "text": [
      "flatiron-school\n"
     ]
    },
    {
     "name": "stderr",
     "output_type": "stream",
     "text": [
      "C:\\Users\\pablo\\AppData\\Local\\Temp\\ipykernel_19416\\3067541099.py:14: FutureWarning: pandas.io.json.json_normalize is deprecated, use pandas.json_normalize instead.\n",
      "  locations_df = json_normalize(locations)\n"
     ]
    },
    {
     "name": "stdout",
     "output_type": "stream",
     "text": [
      "4geeks-academy\n"
     ]
    },
    {
     "name": "stderr",
     "output_type": "stream",
     "text": [
      "C:\\Users\\pablo\\AppData\\Local\\Temp\\ipykernel_19416\\3067541099.py:14: FutureWarning: pandas.io.json.json_normalize is deprecated, use pandas.json_normalize instead.\n",
      "  locations_df = json_normalize(locations)\n"
     ]
    },
    {
     "name": "stdout",
     "output_type": "stream",
     "text": [
      "academia-de-codigo\n"
     ]
    },
    {
     "name": "stderr",
     "output_type": "stream",
     "text": [
      "C:\\Users\\pablo\\AppData\\Local\\Temp\\ipykernel_19416\\3067541099.py:14: FutureWarning: pandas.io.json.json_normalize is deprecated, use pandas.json_normalize instead.\n",
      "  locations_df = json_normalize(locations)\n"
     ]
    },
    {
     "name": "stdout",
     "output_type": "stream",
     "text": [
      "wild-code-school\n"
     ]
    },
    {
     "name": "stderr",
     "output_type": "stream",
     "text": [
      "C:\\Users\\pablo\\AppData\\Local\\Temp\\ipykernel_19416\\3067541099.py:14: FutureWarning: pandas.io.json.json_normalize is deprecated, use pandas.json_normalize instead.\n",
      "  locations_df = json_normalize(locations)\n"
     ]
    },
    {
     "name": "stdout",
     "output_type": "stream",
     "text": [
      "edit-disruptive-digital-education\n"
     ]
    },
    {
     "name": "stderr",
     "output_type": "stream",
     "text": [
      "C:\\Users\\pablo\\AppData\\Local\\Temp\\ipykernel_19416\\3067541099.py:14: FutureWarning: pandas.io.json.json_normalize is deprecated, use pandas.json_normalize instead.\n",
      "  locations_df = json_normalize(locations)\n"
     ]
    },
    {
     "name": "stdout",
     "output_type": "stream",
     "text": [
      "nuclio-digital-school\n"
     ]
    },
    {
     "name": "stderr",
     "output_type": "stream",
     "text": [
      "C:\\Users\\pablo\\AppData\\Local\\Temp\\ipykernel_19416\\3067541099.py:14: FutureWarning: pandas.io.json.json_normalize is deprecated, use pandas.json_normalize instead.\n",
      "  locations_df = json_normalize(locations)\n"
     ]
    },
    {
     "name": "stdout",
     "output_type": "stream",
     "text": [
      "neoland\n"
     ]
    },
    {
     "name": "stderr",
     "output_type": "stream",
     "text": [
      "C:\\Users\\pablo\\AppData\\Local\\Temp\\ipykernel_19416\\3067541099.py:14: FutureWarning: pandas.io.json.json_normalize is deprecated, use pandas.json_normalize instead.\n",
      "  locations_df = json_normalize(locations)\n"
     ]
    },
    {
     "name": "stdout",
     "output_type": "stream",
     "text": [
      "la-capsule\n"
     ]
    },
    {
     "name": "stderr",
     "output_type": "stream",
     "text": [
      "C:\\Users\\pablo\\AppData\\Local\\Temp\\ipykernel_19416\\3067541099.py:14: FutureWarning: pandas.io.json.json_normalize is deprecated, use pandas.json_normalize instead.\n",
      "  locations_df = json_normalize(locations)\n"
     ]
    },
    {
     "name": "stdout",
     "output_type": "stream",
     "text": [
      "careerfoundry\n"
     ]
    },
    {
     "name": "stderr",
     "output_type": "stream",
     "text": [
      "C:\\Users\\pablo\\AppData\\Local\\Temp\\ipykernel_19416\\3067541099.py:14: FutureWarning: pandas.io.json.json_normalize is deprecated, use pandas.json_normalize instead.\n",
      "  locations_df = json_normalize(locations)\n"
     ]
    },
    {
     "name": "stdout",
     "output_type": "stream",
     "text": [
      "neue-fische\n"
     ]
    },
    {
     "name": "stderr",
     "output_type": "stream",
     "text": [
      "C:\\Users\\pablo\\AppData\\Local\\Temp\\ipykernel_19416\\3067541099.py:14: FutureWarning: pandas.io.json.json_normalize is deprecated, use pandas.json_normalize instead.\n",
      "  locations_df = json_normalize(locations)\n"
     ]
    }
   ],
   "source": [
    "from pandas.io.json import json_normalize\n",
    "\n",
    "def get_school_info(school, school_id):\n",
    "    url = 'https://www.switchup.org/chimera/v1/bootcamp-data?mainTemplate=bootcamp-data%2Fdescription&path=%2Fbootcamps%2F'+ str(school) + '&isDataTarget=false&bootcampId='+ str(school_id) + '&logoTag=logo&truncationLength=250&readMoreOmission=...&readMoreText=Read%20More&readLessText=Read%20Less'\n",
    "\n",
    "    data = requests.get(url).json()\n",
    "\n",
    "    data.keys()\n",
    "\n",
    "    courses = data['content']['courses']\n",
    "    courses_df = pd.DataFrame(courses, columns= ['courses'])\n",
    "\n",
    "    locations = data['content']['locations']\n",
    "    locations_df = json_normalize(locations)\n",
    "\n",
    "    badges_df = pd.DataFrame(data['content']['meritBadges'])\n",
    "\n",
    "    website = data['content']['webaddr']\n",
    "    description = data['content']['description']\n",
    "    logoUrl = data['content']['logoUrl']\n",
    "    school_df = pd.DataFrame([website,description,logoUrl]).T\n",
    "    school_df.columns =  ['website','description','LogoUrl']\n",
    "    reviews_df = data['content']['reviewMetric']\n",
    "\n",
    "\n",
    "    locations_df['school'] = school\n",
    "    courses_df['school'] = school\n",
    "    badges_df['school'] = school\n",
    "    school_df['school'] = school\n",
    "    reviews_df['school'] = school\n",
    "\n",
    "\n",
    "    locations_df['school_id'] = school_id\n",
    "    courses_df['school_id'] = school_id\n",
    "    badges_df['school_id'] = school_id\n",
    "    school_df['school_id'] = school_id\n",
    "    reviews_df['school_id'] = school_id\n",
    "\n",
    "    return locations_df, courses_df, badges_df, school_df,reviews_df\n",
    "\n",
    "locations_list = []\n",
    "courses_list = []\n",
    "badges_list = []\n",
    "schools_list = []\n",
    "reviews_list = []\n",
    "\n",
    "for school, id in schools.items():\n",
    "    print(school)\n",
    "    a,b,c,d,e = get_school_info(school,id)\n",
    "\n",
    "    locations_list.append(a)\n",
    "    courses_list.append(b)\n",
    "    badges_list.append(c)\n",
    "    schools_list.append(d)\n",
    "    reviews_list.append(e)\n"
   ]
  },
  {
   "cell_type": "code",
   "execution_count": 6,
   "metadata": {
    "colab": {
     "base_uri": "https://localhost:8080/",
     "height": 551
    },
    "id": "37H8nkubTgpg",
    "outputId": "f307af1d-ff5b-4df0-e4fa-e687db332f23"
   },
   "outputs": [
    {
     "data": {
      "text/html": [
       "<div>\n",
       "<style scoped>\n",
       "    .dataframe tbody tr th:only-of-type {\n",
       "        vertical-align: middle;\n",
       "    }\n",
       "\n",
       "    .dataframe tbody tr th {\n",
       "        vertical-align: top;\n",
       "    }\n",
       "\n",
       "    .dataframe thead th {\n",
       "        text-align: right;\n",
       "    }\n",
       "</style>\n",
       "<table border=\"1\" class=\"dataframe\">\n",
       "  <thead>\n",
       "    <tr style=\"text-align: right;\">\n",
       "      <th></th>\n",
       "      <th>overallRating</th>\n",
       "      <th>reviewCount</th>\n",
       "      <th>school</th>\n",
       "      <th>school_id</th>\n",
       "    </tr>\n",
       "  </thead>\n",
       "  <tbody>\n",
       "    <tr>\n",
       "      <th>0</th>\n",
       "      <td>4.8</td>\n",
       "      <td>1285</td>\n",
       "      <td>ironhack</td>\n",
       "      <td>10828</td>\n",
       "    </tr>\n",
       "    <tr>\n",
       "      <th>1</th>\n",
       "      <td>4.69</td>\n",
       "      <td>1198</td>\n",
       "      <td>app-academy</td>\n",
       "      <td>10525</td>\n",
       "    </tr>\n",
       "    <tr>\n",
       "      <th>2</th>\n",
       "      <td>4.68</td>\n",
       "      <td>1558</td>\n",
       "      <td>springboard</td>\n",
       "      <td>11035</td>\n",
       "    </tr>\n",
       "    <tr>\n",
       "      <th>3</th>\n",
       "      <td>4.98</td>\n",
       "      <td>2731</td>\n",
       "      <td>le-wagon</td>\n",
       "      <td>10868</td>\n",
       "    </tr>\n",
       "    <tr>\n",
       "      <th>4</th>\n",
       "      <td>4.27</td>\n",
       "      <td>999</td>\n",
       "      <td>general-assembly</td>\n",
       "      <td>10761</td>\n",
       "    </tr>\n",
       "    <tr>\n",
       "      <th>5</th>\n",
       "      <td>4.67</td>\n",
       "      <td>313</td>\n",
       "      <td>brainstation</td>\n",
       "      <td>10571</td>\n",
       "    </tr>\n",
       "    <tr>\n",
       "      <th>6</th>\n",
       "      <td>4.6</td>\n",
       "      <td>266</td>\n",
       "      <td>flatiron-school</td>\n",
       "      <td>10748</td>\n",
       "    </tr>\n",
       "    <tr>\n",
       "      <th>7</th>\n",
       "      <td>4.89</td>\n",
       "      <td>180</td>\n",
       "      <td>4geeks-academy</td>\n",
       "      <td>10492</td>\n",
       "    </tr>\n",
       "    <tr>\n",
       "      <th>8</th>\n",
       "      <td>4.9</td>\n",
       "      <td>282</td>\n",
       "      <td>academia-de-codigo</td>\n",
       "      <td>10494</td>\n",
       "    </tr>\n",
       "    <tr>\n",
       "      <th>9</th>\n",
       "      <td>4.8</td>\n",
       "      <td>100</td>\n",
       "      <td>wild-code-school</td>\n",
       "      <td>11169</td>\n",
       "    </tr>\n",
       "    <tr>\n",
       "      <th>10</th>\n",
       "      <td>5.0</td>\n",
       "      <td>1</td>\n",
       "      <td>edit-disruptive-digital-education</td>\n",
       "      <td>10731</td>\n",
       "    </tr>\n",
       "    <tr>\n",
       "      <th>11</th>\n",
       "      <td>4.43</td>\n",
       "      <td>7</td>\n",
       "      <td>nuclio-digital-school</td>\n",
       "      <td>11509</td>\n",
       "    </tr>\n",
       "    <tr>\n",
       "      <th>12</th>\n",
       "      <td>4.77</td>\n",
       "      <td>182</td>\n",
       "      <td>neoland</td>\n",
       "      <td>10906</td>\n",
       "    </tr>\n",
       "    <tr>\n",
       "      <th>13</th>\n",
       "      <td>4.98</td>\n",
       "      <td>331</td>\n",
       "      <td>la-capsule</td>\n",
       "      <td>10853</td>\n",
       "    </tr>\n",
       "    <tr>\n",
       "      <th>14</th>\n",
       "      <td>4.46</td>\n",
       "      <td>183</td>\n",
       "      <td>careerfoundry</td>\n",
       "      <td>10581</td>\n",
       "    </tr>\n",
       "    <tr>\n",
       "      <th>15</th>\n",
       "      <td>0.0</td>\n",
       "      <td>0</td>\n",
       "      <td>neue-fische</td>\n",
       "      <td>11753</td>\n",
       "    </tr>\n",
       "  </tbody>\n",
       "</table>\n",
       "</div>"
      ],
      "text/plain": [
       "   overallRating  reviewCount                             school  school_id\n",
       "0            4.8         1285                           ironhack      10828\n",
       "1           4.69         1198                        app-academy      10525\n",
       "2           4.68         1558                        springboard      11035\n",
       "3           4.98         2731                           le-wagon      10868\n",
       "4           4.27          999                   general-assembly      10761\n",
       "5           4.67          313                       brainstation      10571\n",
       "6            4.6          266                    flatiron-school      10748\n",
       "7           4.89          180                     4geeks-academy      10492\n",
       "8            4.9          282                 academia-de-codigo      10494\n",
       "9            4.8          100                   wild-code-school      11169\n",
       "10           5.0            1  edit-disruptive-digital-education      10731\n",
       "11          4.43            7              nuclio-digital-school      11509\n",
       "12          4.77          182                            neoland      10906\n",
       "13          4.98          331                         la-capsule      10853\n",
       "14          4.46          183                      careerfoundry      10581\n",
       "15           0.0            0                        neue-fische      11753"
      ]
     },
     "execution_count": 6,
     "metadata": {},
     "output_type": "execute_result"
    }
   ],
   "source": [
    "reviews = pd.DataFrame(reviews_list)\n",
    "reviews"
   ]
  },
  {
   "cell_type": "code",
   "execution_count": 7,
   "metadata": {
    "id": "GTVneZU02_HC"
   },
   "outputs": [],
   "source": [
    "reviews['overallRating'] = reviews['overallRating'].astype(float)"
   ]
  },
  {
   "cell_type": "code",
   "execution_count": 9,
   "metadata": {
    "colab": {
     "base_uri": "https://localhost:8080/",
     "height": 175
    },
    "id": "LKcRzyAv3Crg",
    "outputId": "3e5d1afa-bc1e-4f1e-e52b-139968995690"
   },
   "outputs": [
    {
     "data": {
      "text/html": [
       "<div>\n",
       "<style scoped>\n",
       "    .dataframe tbody tr th:only-of-type {\n",
       "        vertical-align: middle;\n",
       "    }\n",
       "\n",
       "    .dataframe tbody tr th {\n",
       "        vertical-align: top;\n",
       "    }\n",
       "\n",
       "    .dataframe thead th {\n",
       "        text-align: right;\n",
       "    }\n",
       "</style>\n",
       "<table border=\"1\" class=\"dataframe\">\n",
       "  <thead>\n",
       "    <tr style=\"text-align: right;\">\n",
       "      <th></th>\n",
       "      <th>overallRating</th>\n",
       "      <th>reviewCount</th>\n",
       "      <th>school</th>\n",
       "      <th>school_id</th>\n",
       "    </tr>\n",
       "  </thead>\n",
       "  <tbody>\n",
       "    <tr>\n",
       "      <th>0</th>\n",
       "      <td>4.80</td>\n",
       "      <td>1285</td>\n",
       "      <td>ironhack</td>\n",
       "      <td>10828</td>\n",
       "    </tr>\n",
       "    <tr>\n",
       "      <th>1</th>\n",
       "      <td>4.69</td>\n",
       "      <td>1198</td>\n",
       "      <td>app-academy</td>\n",
       "      <td>10525</td>\n",
       "    </tr>\n",
       "    <tr>\n",
       "      <th>2</th>\n",
       "      <td>4.68</td>\n",
       "      <td>1558</td>\n",
       "      <td>springboard</td>\n",
       "      <td>11035</td>\n",
       "    </tr>\n",
       "    <tr>\n",
       "      <th>3</th>\n",
       "      <td>4.98</td>\n",
       "      <td>2731</td>\n",
       "      <td>le-wagon</td>\n",
       "      <td>10868</td>\n",
       "    </tr>\n",
       "  </tbody>\n",
       "</table>\n",
       "</div>"
      ],
      "text/plain": [
       "   overallRating  reviewCount       school  school_id\n",
       "0           4.80         1285     ironhack      10828\n",
       "1           4.69         1198  app-academy      10525\n",
       "2           4.68         1558  springboard      11035\n",
       "3           4.98         2731     le-wagon      10868"
      ]
     },
     "execution_count": 9,
     "metadata": {},
     "output_type": "execute_result"
    }
   ],
   "source": [
    "reviews[reviews['reviewCount'] > 1000]"
   ]
  },
  {
   "cell_type": "code",
   "execution_count": 10,
   "metadata": {
    "colab": {
     "base_uri": "https://localhost:8080/",
     "height": 1000
    },
    "id": "LCXvFSix2jgS",
    "outputId": "9b0e7b30-a608-4890-d6fd-72cda03d1ecb"
   },
   "outputs": [
    {
     "data": {
      "text/html": [
       "<div>\n",
       "<style scoped>\n",
       "    .dataframe tbody tr th:only-of-type {\n",
       "        vertical-align: middle;\n",
       "    }\n",
       "\n",
       "    .dataframe tbody tr th {\n",
       "        vertical-align: top;\n",
       "    }\n",
       "\n",
       "    .dataframe thead th {\n",
       "        text-align: right;\n",
       "    }\n",
       "</style>\n",
       "<table border=\"1\" class=\"dataframe\">\n",
       "  <thead>\n",
       "    <tr style=\"text-align: right;\">\n",
       "      <th></th>\n",
       "      <th>courses</th>\n",
       "      <th>school</th>\n",
       "      <th>school_id</th>\n",
       "    </tr>\n",
       "  </thead>\n",
       "  <tbody>\n",
       "    <tr>\n",
       "      <th>0</th>\n",
       "      <td>Cyber Security Bootcamp</td>\n",
       "      <td>ironhack</td>\n",
       "      <td>10828</td>\n",
       "    </tr>\n",
       "    <tr>\n",
       "      <th>1</th>\n",
       "      <td>Cybersecurity Part-Time</td>\n",
       "      <td>ironhack</td>\n",
       "      <td>10828</td>\n",
       "    </tr>\n",
       "    <tr>\n",
       "      <th>2</th>\n",
       "      <td>Data Analytics Bootcamp</td>\n",
       "      <td>ironhack</td>\n",
       "      <td>10828</td>\n",
       "    </tr>\n",
       "    <tr>\n",
       "      <th>3</th>\n",
       "      <td>Data Analytics Part-Time</td>\n",
       "      <td>ironhack</td>\n",
       "      <td>10828</td>\n",
       "    </tr>\n",
       "    <tr>\n",
       "      <th>4</th>\n",
       "      <td>UX/UI Design Bootcamp</td>\n",
       "      <td>ironhack</td>\n",
       "      <td>10828</td>\n",
       "    </tr>\n",
       "    <tr>\n",
       "      <th>5</th>\n",
       "      <td>UX/UI Design Part-Time</td>\n",
       "      <td>ironhack</td>\n",
       "      <td>10828</td>\n",
       "    </tr>\n",
       "    <tr>\n",
       "      <th>6</th>\n",
       "      <td>Web Development Bootcamp</td>\n",
       "      <td>ironhack</td>\n",
       "      <td>10828</td>\n",
       "    </tr>\n",
       "    <tr>\n",
       "      <th>7</th>\n",
       "      <td>Web Development Part-Time</td>\n",
       "      <td>ironhack</td>\n",
       "      <td>10828</td>\n",
       "    </tr>\n",
       "    <tr>\n",
       "      <th>0</th>\n",
       "      <td>16-week Software Engineering Program</td>\n",
       "      <td>app-academy</td>\n",
       "      <td>10525</td>\n",
       "    </tr>\n",
       "    <tr>\n",
       "      <th>1</th>\n",
       "      <td>Bootcamp Prep</td>\n",
       "      <td>app-academy</td>\n",
       "      <td>10525</td>\n",
       "    </tr>\n",
       "    <tr>\n",
       "      <th>2</th>\n",
       "      <td>Bootcamp Prep Self-Paced</td>\n",
       "      <td>app-academy</td>\n",
       "      <td>10525</td>\n",
       "    </tr>\n",
       "    <tr>\n",
       "      <th>3</th>\n",
       "      <td>16-Week Online Full-Time Accelerated Software ...</td>\n",
       "      <td>app-academy</td>\n",
       "      <td>10525</td>\n",
       "    </tr>\n",
       "    <tr>\n",
       "      <th>4</th>\n",
       "      <td>24-week Software Engineering Program (Full Time)</td>\n",
       "      <td>app-academy</td>\n",
       "      <td>10525</td>\n",
       "    </tr>\n",
       "    <tr>\n",
       "      <th>5</th>\n",
       "      <td>48-week Software Engineering Program (Part Time)</td>\n",
       "      <td>app-academy</td>\n",
       "      <td>10525</td>\n",
       "    </tr>\n",
       "    <tr>\n",
       "      <th>6</th>\n",
       "      <td>App Academy Open</td>\n",
       "      <td>app-academy</td>\n",
       "      <td>10525</td>\n",
       "    </tr>\n",
       "    <tr>\n",
       "      <th>0</th>\n",
       "      <td>Cyber Security Career Track</td>\n",
       "      <td>springboard</td>\n",
       "      <td>11035</td>\n",
       "    </tr>\n",
       "    <tr>\n",
       "      <th>1</th>\n",
       "      <td>Data Analytics Career Track</td>\n",
       "      <td>springboard</td>\n",
       "      <td>11035</td>\n",
       "    </tr>\n",
       "    <tr>\n",
       "      <th>2</th>\n",
       "      <td>Data Science Career Track</td>\n",
       "      <td>springboard</td>\n",
       "      <td>11035</td>\n",
       "    </tr>\n",
       "    <tr>\n",
       "      <th>3</th>\n",
       "      <td>Data Science Career Track Prep</td>\n",
       "      <td>springboard</td>\n",
       "      <td>11035</td>\n",
       "    </tr>\n",
       "    <tr>\n",
       "      <th>4</th>\n",
       "      <td>Front-End Web Development</td>\n",
       "      <td>springboard</td>\n",
       "      <td>11035</td>\n",
       "    </tr>\n",
       "    <tr>\n",
       "      <th>5</th>\n",
       "      <td>Introduction to Data Analytics</td>\n",
       "      <td>springboard</td>\n",
       "      <td>11035</td>\n",
       "    </tr>\n",
       "    <tr>\n",
       "      <th>6</th>\n",
       "      <td>Introduction to Design</td>\n",
       "      <td>springboard</td>\n",
       "      <td>11035</td>\n",
       "    </tr>\n",
       "    <tr>\n",
       "      <th>7</th>\n",
       "      <td>Software Engineering Career Track</td>\n",
       "      <td>springboard</td>\n",
       "      <td>11035</td>\n",
       "    </tr>\n",
       "    <tr>\n",
       "      <th>8</th>\n",
       "      <td>Software Engineering Career Track Prep Course</td>\n",
       "      <td>springboard</td>\n",
       "      <td>11035</td>\n",
       "    </tr>\n",
       "    <tr>\n",
       "      <th>9</th>\n",
       "      <td>Software Engineering Foundations to Core</td>\n",
       "      <td>springboard</td>\n",
       "      <td>11035</td>\n",
       "    </tr>\n",
       "    <tr>\n",
       "      <th>10</th>\n",
       "      <td>Tech Sales Career Track</td>\n",
       "      <td>springboard</td>\n",
       "      <td>11035</td>\n",
       "    </tr>\n",
       "    <tr>\n",
       "      <th>11</th>\n",
       "      <td>UI/UX Design Career Track</td>\n",
       "      <td>springboard</td>\n",
       "      <td>11035</td>\n",
       "    </tr>\n",
       "    <tr>\n",
       "      <th>12</th>\n",
       "      <td>UX Career Track</td>\n",
       "      <td>springboard</td>\n",
       "      <td>11035</td>\n",
       "    </tr>\n",
       "    <tr>\n",
       "      <th>0</th>\n",
       "      <td>Data Analytics - Full-Time</td>\n",
       "      <td>le-wagon</td>\n",
       "      <td>10868</td>\n",
       "    </tr>\n",
       "    <tr>\n",
       "      <th>1</th>\n",
       "      <td>Data Analytics - Part-Time</td>\n",
       "      <td>le-wagon</td>\n",
       "      <td>10868</td>\n",
       "    </tr>\n",
       "    <tr>\n",
       "      <th>2</th>\n",
       "      <td>Data Engineering - Full-Time</td>\n",
       "      <td>le-wagon</td>\n",
       "      <td>10868</td>\n",
       "    </tr>\n",
       "    <tr>\n",
       "      <th>3</th>\n",
       "      <td>Data Engineering - Part-Time</td>\n",
       "      <td>le-wagon</td>\n",
       "      <td>10868</td>\n",
       "    </tr>\n",
       "    <tr>\n",
       "      <th>4</th>\n",
       "      <td>Data Science &amp; AI - Full-Time</td>\n",
       "      <td>le-wagon</td>\n",
       "      <td>10868</td>\n",
       "    </tr>\n",
       "    <tr>\n",
       "      <th>5</th>\n",
       "      <td>Data Science &amp; AI - Part-Time</td>\n",
       "      <td>le-wagon</td>\n",
       "      <td>10868</td>\n",
       "    </tr>\n",
       "    <tr>\n",
       "      <th>6</th>\n",
       "      <td>Web Development - Full-Time</td>\n",
       "      <td>le-wagon</td>\n",
       "      <td>10868</td>\n",
       "    </tr>\n",
       "    <tr>\n",
       "      <th>7</th>\n",
       "      <td>Web Development - Part-Time</td>\n",
       "      <td>le-wagon</td>\n",
       "      <td>10868</td>\n",
       "    </tr>\n",
       "  </tbody>\n",
       "</table>\n",
       "</div>"
      ],
      "text/plain": [
       "                                              courses       school  school_id\n",
       "0                             Cyber Security Bootcamp     ironhack      10828\n",
       "1                             Cybersecurity Part-Time     ironhack      10828\n",
       "2                             Data Analytics Bootcamp     ironhack      10828\n",
       "3                            Data Analytics Part-Time     ironhack      10828\n",
       "4                               UX/UI Design Bootcamp     ironhack      10828\n",
       "5                              UX/UI Design Part-Time     ironhack      10828\n",
       "6                            Web Development Bootcamp     ironhack      10828\n",
       "7                           Web Development Part-Time     ironhack      10828\n",
       "0                16-week Software Engineering Program  app-academy      10525\n",
       "1                                       Bootcamp Prep  app-academy      10525\n",
       "2                            Bootcamp Prep Self-Paced  app-academy      10525\n",
       "3   16-Week Online Full-Time Accelerated Software ...  app-academy      10525\n",
       "4    24-week Software Engineering Program (Full Time)  app-academy      10525\n",
       "5    48-week Software Engineering Program (Part Time)  app-academy      10525\n",
       "6                                    App Academy Open  app-academy      10525\n",
       "0                         Cyber Security Career Track  springboard      11035\n",
       "1                         Data Analytics Career Track  springboard      11035\n",
       "2                           Data Science Career Track  springboard      11035\n",
       "3                      Data Science Career Track Prep  springboard      11035\n",
       "4                           Front-End Web Development  springboard      11035\n",
       "5                      Introduction to Data Analytics  springboard      11035\n",
       "6                              Introduction to Design  springboard      11035\n",
       "7                   Software Engineering Career Track  springboard      11035\n",
       "8       Software Engineering Career Track Prep Course  springboard      11035\n",
       "9            Software Engineering Foundations to Core  springboard      11035\n",
       "10                            Tech Sales Career Track  springboard      11035\n",
       "11                          UI/UX Design Career Track  springboard      11035\n",
       "12                                    UX Career Track  springboard      11035\n",
       "0                          Data Analytics - Full-Time     le-wagon      10868\n",
       "1                          Data Analytics - Part-Time     le-wagon      10868\n",
       "2                        Data Engineering - Full-Time     le-wagon      10868\n",
       "3                        Data Engineering - Part-Time     le-wagon      10868\n",
       "4                       Data Science & AI - Full-Time     le-wagon      10868\n",
       "5                       Data Science & AI - Part-Time     le-wagon      10868\n",
       "6                         Web Development - Full-Time     le-wagon      10868\n",
       "7                         Web Development - Part-Time     le-wagon      10868"
      ]
     },
     "execution_count": 10,
     "metadata": {},
     "output_type": "execute_result"
    }
   ],
   "source": [
    "courses = pd.concat(courses_list)\n",
    "courses[courses['school'].isin(['ironhack', 'app-academy', 'springboard', 'le-wagon'])]"
   ]
  },
  {
   "cell_type": "code",
   "execution_count": 11,
   "metadata": {
    "colab": {
     "base_uri": "https://localhost:8080/",
     "height": 582
    },
    "id": "v6R2JB6G2w5t",
    "outputId": "cf9559bf-fbaa-42fb-ed2b-08dac6d52402"
   },
   "outputs": [
    {
     "data": {
      "text/html": [
       "<div>\n",
       "<style scoped>\n",
       "    .dataframe tbody tr th:only-of-type {\n",
       "        vertical-align: middle;\n",
       "    }\n",
       "\n",
       "    .dataframe tbody tr th {\n",
       "        vertical-align: top;\n",
       "    }\n",
       "\n",
       "    .dataframe thead th {\n",
       "        text-align: right;\n",
       "    }\n",
       "</style>\n",
       "<table border=\"1\" class=\"dataframe\">\n",
       "  <thead>\n",
       "    <tr style=\"text-align: right;\">\n",
       "      <th></th>\n",
       "      <th>courses</th>\n",
       "    </tr>\n",
       "    <tr>\n",
       "      <th>school</th>\n",
       "      <th></th>\n",
       "    </tr>\n",
       "  </thead>\n",
       "  <tbody>\n",
       "    <tr>\n",
       "      <th>4geeks-academy</th>\n",
       "      <td>4</td>\n",
       "    </tr>\n",
       "    <tr>\n",
       "      <th>academia-de-codigo</th>\n",
       "      <td>1</td>\n",
       "    </tr>\n",
       "    <tr>\n",
       "      <th>app-academy</th>\n",
       "      <td>7</td>\n",
       "    </tr>\n",
       "    <tr>\n",
       "      <th>brainstation</th>\n",
       "      <td>20</td>\n",
       "    </tr>\n",
       "    <tr>\n",
       "      <th>careerfoundry</th>\n",
       "      <td>18</td>\n",
       "    </tr>\n",
       "    <tr>\n",
       "      <th>edit-disruptive-digital-education</th>\n",
       "      <td>6</td>\n",
       "    </tr>\n",
       "    <tr>\n",
       "      <th>flatiron-school</th>\n",
       "      <td>13</td>\n",
       "    </tr>\n",
       "    <tr>\n",
       "      <th>general-assembly</th>\n",
       "      <td>14</td>\n",
       "    </tr>\n",
       "    <tr>\n",
       "      <th>ironhack</th>\n",
       "      <td>8</td>\n",
       "    </tr>\n",
       "    <tr>\n",
       "      <th>la-capsule</th>\n",
       "      <td>3</td>\n",
       "    </tr>\n",
       "    <tr>\n",
       "      <th>le-wagon</th>\n",
       "      <td>8</td>\n",
       "    </tr>\n",
       "    <tr>\n",
       "      <th>neoland</th>\n",
       "      <td>6</td>\n",
       "    </tr>\n",
       "    <tr>\n",
       "      <th>neue-fische</th>\n",
       "      <td>5</td>\n",
       "    </tr>\n",
       "    <tr>\n",
       "      <th>nuclio-digital-school</th>\n",
       "      <td>9</td>\n",
       "    </tr>\n",
       "    <tr>\n",
       "      <th>springboard</th>\n",
       "      <td>13</td>\n",
       "    </tr>\n",
       "    <tr>\n",
       "      <th>wild-code-school</th>\n",
       "      <td>6</td>\n",
       "    </tr>\n",
       "  </tbody>\n",
       "</table>\n",
       "</div>"
      ],
      "text/plain": [
       "                                   courses\n",
       "school                                    \n",
       "4geeks-academy                           4\n",
       "academia-de-codigo                       1\n",
       "app-academy                              7\n",
       "brainstation                            20\n",
       "careerfoundry                           18\n",
       "edit-disruptive-digital-education        6\n",
       "flatiron-school                         13\n",
       "general-assembly                        14\n",
       "ironhack                                 8\n",
       "la-capsule                               3\n",
       "le-wagon                                 8\n",
       "neoland                                  6\n",
       "neue-fische                              5\n",
       "nuclio-digital-school                    9\n",
       "springboard                             13\n",
       "wild-code-school                         6"
      ]
     },
     "execution_count": 11,
     "metadata": {},
     "output_type": "execute_result"
    }
   ],
   "source": [
    "courses.groupby('school').agg({'courses':'count'})"
   ]
  },
  {
   "cell_type": "code",
   "execution_count": null,
   "metadata": {
    "colab": {
     "base_uri": "https://localhost:8080/"
    },
    "id": "dVaJrQiV22Mt",
    "outputId": "6055b741-c179-4f31-bbf1-6e25213432b9"
   },
   "outputs": [],
   "source": [
    "from pandas.io.json import json_normalize\n",
    "import requests\n",
    "import pandas as pd\n",
    "\n",
    "def get_school_info(school, school_id):\n",
    "    url = 'https://www.switchup.org/chimera/v1/bootcamp-data?mainTemplate=bootcamp-data%2Fdescription&path=%2Fbootcamps%2F'+ str(school) + '&isDataTarget=false&bootcampId='+ str(school_id) + '&logoTag=logo&truncationLength=250&readMoreOmission=...&readMoreText=Read%20More&readLessText=Read%20Less'\n",
    "\n",
    "    data = requests.get(url).json()\n",
    "\n",
    "    courses = data['content']['courses']\n",
    "    courses_df = pd.DataFrame(courses, columns= ['courses'])\n",
    "\n",
    "    locations = data['content']['locations']\n",
    "    locations_df = json_normalize(locations)\n",
    "\n",
    "    badges_df = pd.DataFrame(data['content']['meritBadges'])\n",
    "\n",
    "    website = data['content']['webaddr']\n",
    "    description = data['content']['description']\n",
    "    logoUrl = data['content']['logoUrl']\n",
    "    school_df = pd.DataFrame([website,description,logoUrl]).T\n",
    "    school_df.columns =  ['website','description','LogoUrl']\n",
    "\n",
    "    locations_df['school'] = school\n",
    "    courses_df['school'] = school\n",
    "    badges_df['school'] = school\n",
    "    school_df['school'] = school\n",
    "\n",
    "    locations_df['school_id'] = school_id\n",
    "    courses_df['school_id'] = school_id\n",
    "    badges_df['school_id'] = school_id\n",
    "    school_df['school_id'] = school_id\n",
    "\n",
    "    return data, locations_df, courses_df, badges_df, school_df\n",
    "\n",
    "locations_list = []\n",
    "courses_list = []\n",
    "badges_list = []\n",
    "schools_list = []\n",
    "data_list = []  # Added a list to store 'data' for each school\n",
    "\n",
    "for school, id in schools.items():\n",
    "    print(school)\n",
    "    data, a, b, c, d = get_school_info(school, id)\n",
    "\n",
    "    locations_list.append(a)\n",
    "    courses_list.append(b)\n",
    "    badges_list.append(c)\n",
    "    schools_list.append(d)\n",
    "    data_list.append(data)  # Append 'data' for each school\n"
   ]
  },
  {
   "cell_type": "code",
   "execution_count": null,
   "metadata": {
    "colab": {
     "base_uri": "https://localhost:8080/"
    },
    "id": "2KT6iO6x5A7C",
    "outputId": "f24d25c2-d341-4945-da9a-7fcc5815ba49"
   },
   "outputs": [],
   "source": [
    "data_list"
   ]
  },
  {
   "cell_type": "code",
   "execution_count": null,
   "metadata": {
    "id": "kSGNrlMs5HTj"
   },
   "outputs": [],
   "source": []
  }
 ],
 "metadata": {
  "colab": {
   "provenance": []
  },
  "kernelspec": {
   "display_name": "Python 3 (ipykernel)",
   "language": "python",
   "name": "python3"
  },
  "language_info": {
   "codemirror_mode": {
    "name": "ipython",
    "version": 3
   },
   "file_extension": ".py",
   "mimetype": "text/x-python",
   "name": "python",
   "nbconvert_exporter": "python",
   "pygments_lexer": "ipython3",
   "version": "3.11.4"
  }
 },
 "nbformat": 4,
 "nbformat_minor": 1
}
